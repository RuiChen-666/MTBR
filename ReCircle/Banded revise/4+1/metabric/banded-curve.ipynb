{
 "cells": [
  {
   "cell_type": "code",
   "execution_count": 1,
   "id": "9286774b-4149-422c-9ab9-bab4970e0a47",
   "metadata": {},
   "outputs": [
    {
     "name": "stderr",
     "output_type": "stream",
     "text": [
      "D:\\Anaconda\\envs\\lstm3.6\\lib\\site-packages\\tqdm\\auto.py:22: TqdmWarning: IProgress not found. Please update jupyter and ipywidgets. See https://ipywidgets.readthedocs.io/en/stable/user_install.html\n",
      "  from .autonotebook import tqdm as notebook_tqdm\n"
     ]
    }
   ],
   "source": [
    "import os \n",
    "import csv\n",
    "import random\n",
    "import numpy as np\n",
    "import pandas as pd\n",
    "import matplotlib.pyplot as plt\n",
    "\n",
    "# For preprocessing\n",
    "from sklearn.preprocessing import StandardScaler\n",
    "from sklearn_pandas import DataFrameMapper \n",
    "\n",
    "import torch # For building the networks \n",
    "import torchtuples as tt # Some useful functions\n",
    "\n",
    "from pycox.datasets import gbsg\n",
    "from BandDeepHitSingle import BandedDeepHitSingle\n",
    "from pycox.evaluation import EvalSurv"
   ]
  },
  {
   "cell_type": "code",
   "execution_count": 2,
   "id": "b3747676-c71f-4da1-aafa-bbaf481569d6",
   "metadata": {},
   "outputs": [],
   "source": [
    "#设置种子\n",
    "# se = random.randint(0,9999)\n",
    "se = 7420\n",
    "np.random.seed(se)\n",
    "_ = torch.manual_seed(se)"
   ]
  },
  {
   "cell_type": "code",
   "execution_count": 3,
   "id": "407263ee-f455-40cd-82ef-325fab8afb29",
   "metadata": {},
   "outputs": [],
   "source": [
    "#导入数据\n",
    "dir_path = os.path.dirname('C:\\\\Users\\\\gy501\\\\Desktop\\\\ReCircle - 英文论文\\\\ReCircle\\\\Banded\\\\')\n",
    "path = os.path.abspath(os.path.join(dir_path, 'metabric.csv'))\n",
    "df_train = pd.read_csv(path, index_col=False)\n",
    "df_test = df_train.sample(frac=0.2)\n",
    "df_train = df_train.drop(df_test.index)\n",
    "df_val = df_train.sample(frac=0.2)\n",
    "df_train = df_train.drop(df_val.index)"
   ]
  },
  {
   "cell_type": "code",
   "execution_count": 4,
   "id": "c765b0c3-a84c-4ea5-ac55-83ea4cc8fff6",
   "metadata": {},
   "outputs": [],
   "source": [
    "#处理数据\n",
    "cols_standardize = ['x0', 'x1', 'x2', 'x3', 'x8']\n",
    "cols_leave = ['x4', 'x5', 'x6', 'x7']\n",
    "\n",
    "standardize = [([col], StandardScaler()) for col in cols_standardize]\n",
    "leave = [(col, None) for col in cols_leave]\n",
    "\n",
    "x_mapper = DataFrameMapper(standardize + leave)\n",
    "\n",
    "x_train = x_mapper.fit_transform(df_train).astype('float32')\n",
    "x_val = x_mapper.transform(df_val).astype('float32')\n",
    "x_test = x_mapper.transform(df_test).astype('float32')"
   ]
  },
  {
   "cell_type": "code",
   "execution_count": 5,
   "id": "09c2e128-2afa-4168-a750-edcddb4ef2a8",
   "metadata": {},
   "outputs": [],
   "source": [
    "num_durations = 10\n",
    "#labtrans = DeepHitSingle.label_transform(num_durations)\n",
    "labtrans = BandedDeepHitSingle.label_transform(num_durations)\n",
    "get_target = lambda df: (df['duration'].values, df['event'].values)\n",
    "y_train = labtrans.fit_transform(*get_target(df_train))\n",
    "y_val = labtrans.transform(*get_target(df_val))"
   ]
  },
  {
   "cell_type": "code",
   "execution_count": 6,
   "id": "527b15c0-f64d-45f6-9578-363b89f3919c",
   "metadata": {},
   "outputs": [],
   "source": [
    "train = (x_train, y_train)\n",
    "val = (x_val, y_val)\n",
    "# We don't need to transform the test labels\n",
    "durations_test, events_test = get_target(df_test)"
   ]
  },
  {
   "cell_type": "code",
   "execution_count": 7,
   "id": "d1049931-5036-49b9-97c3-8c04a6dc117e",
   "metadata": {},
   "outputs": [],
   "source": [
    "in_features = x_train.shape[1]\n",
    "num_nodes = [32, 32]\n",
    "out_features = labtrans.out_features\n",
    "batch_norm = True\n",
    "dropout = 0.1"
   ]
  },
  {
   "cell_type": "code",
   "execution_count": 8,
   "id": "6474a83c-2ada-42cd-a65c-a5bf6284bd9e",
   "metadata": {},
   "outputs": [],
   "source": [
    "net = tt.practical.MLPVanilla(in_features, num_nodes, out_features, batch_norm, dropout)\n",
    "a = 0.2\n",
    "s = 0.2\n",
    "model = BandedDeepHitSingle(net, tt.optim.Adam, alpha=a, sigma=s, duration_index=labtrans.cuts)\n",
    "batch_size = 256\n",
    "lr_finder = model.lr_finder(x_train, y_train, batch_size, tolerance=3)\n",
    "model.optimizer.set_lr(lr_finder.get_best_lr())"
   ]
  },
  {
   "cell_type": "code",
   "execution_count": 9,
   "id": "1a525643-656a-4a1c-b421-6498bdf6e771",
   "metadata": {},
   "outputs": [],
   "source": [
    "epochs = 256\n",
    "callbacks = [tt.callbacks.EarlyStopping()]\n",
    "verbose = False\n",
    "log = model.fit(x_train, y_train, batch_size, epochs, callbacks,verbose,val_data=val)"
   ]
  },
  {
   "cell_type": "code",
   "execution_count": 10,
   "id": "2217e8b3-e2f9-45a5-bdf7-17ae7c235fab",
   "metadata": {},
   "outputs": [
    {
     "data": {
      "image/png": "[encoded data removed]",
      "text/plain": [
       "<Figure size 432x288 with 1 Axes>"
      ]
     },
     "metadata": {
      "needs_background": "light"
     },
     "output_type": "display_data"
    }
   ],
   "source": [
    "#训练结果\n",
    "surv = model.predict_surv_df(x_test)\n",
    "surv.iloc[:, :5].plot(drawstyle='steps-post')\n",
    "plt.ylabel('S(t | x)')\n",
    "_ = plt.xlabel('Time')\n"
   ]
  },
  {
   "cell_type": "code",
   "execution_count": 11,
   "id": "c7cfc115-e98a-411f-ac2b-61b3eabfdd33",
   "metadata": {},
   "outputs": [
    {
     "data": {
      "image/png": "[encoded data removed]",
      "text/plain": [
       "<Figure size 432x288 with 1 Axes>"
      ]
     },
     "metadata": {
      "needs_background": "light"
     },
     "output_type": "display_data"
    }
   ],
   "source": [
    "surv = model.interpolate(10).predict_surv_df(x_test)\n",
    "surv.iloc[:, :5].plot(drawstyle='steps-post')\n",
    "plt.ylabel('S(t | x)')\n",
    "_ = plt.xlabel('Time')\n",
    "plt.savefig(\"METABRIC\"+str(5)+\"-\"+str(5)+\".png\")"
   ]
  },
  {
   "cell_type": "code",
   "execution_count": 12,
   "id": "f04ab75d-3a28-40ad-ac8e-07b16807b025",
   "metadata": {},
   "outputs": [
    {
     "data": {
      "text/plain": [
       "0.6631982584729684"
      ]
     },
     "execution_count": 12,
     "metadata": {},
     "output_type": "execute_result"
    }
   ],
   "source": [
    "ev = EvalSurv(surv, durations_test, events_test, censor_surv='km')\n",
    "ci = ev.concordance_td('antolini')\n",
    "time_grid = np.linspace(durations_test.min(), durations_test.max(), 100)\n",
    "ibs = ev.integrated_brier_score(time_grid)\n",
    "nbll = ev.integrated_nbll(time_grid) \n",
    "ci"
   ]
  },
  {
   "cell_type": "code",
   "execution_count": null,
   "id": "705b041d-c3d5-4655-a23a-4f4169c8bd15",
   "metadata": {},
   "outputs": [],
   "source": []
  }
 ],
 "metadata": {
  "kernelspec": {
   "display_name": "lstm3.6",
   "language": "python",
   "name": "lstm3.6"
  },
  "language_info": {
   "codemirror_mode": {
    "name": "ipython",
    "version": 3
   },
   "file_extension": ".py",
   "mimetype": "text/x-python",
   "name": "python",
   "nbconvert_exporter": "python",
   "pygments_lexer": "ipython3",
   "version": "3.6.9"
  }
 },
 "nbformat": 4,
 "nbformat_minor": 5
}
