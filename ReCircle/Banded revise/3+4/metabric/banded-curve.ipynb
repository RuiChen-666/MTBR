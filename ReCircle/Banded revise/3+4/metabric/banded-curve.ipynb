{
 "cells": [
  {
   "cell_type": "code",
   "execution_count": 1,
   "id": "9286774b-4149-422c-9ab9-bab4970e0a47",
   "metadata": {},
   "outputs": [
    {
     "name": "stderr",
     "output_type": "stream",
     "text": [
      "D:\\Anaconda\\envs\\lstm3.6pre\\lib\\site-packages\\tqdm\\auto.py:22: TqdmWarning: IProgress not found. Please update jupyter and ipywidgets. See https://ipywidgets.readthedocs.io/en/stable/user_install.html\n",
      "  from .autonotebook import tqdm as notebook_tqdm\n"
     ]
    }
   ],
   "source": [
    "import os \n",
    "import csv\n",
    "import random\n",
    "import numpy as np\n",
    "import pandas as pd\n",
    "import matplotlib.pyplot as plt\n",
    "\n",
    "# For preprocessing\n",
    "from sklearn.preprocessing import StandardScaler\n",
    "from sklearn_pandas import DataFrameMapper \n",
    "\n",
    "import torch # For building the networks \n",
    "import torchtuples as tt # Some useful functions\n",
    "\n",
    "from pycox.datasets import gbsg\n",
    "from BandDeepHitSingle import BandedDeepHitSingle\n",
    "from pycox.evaluation import EvalSurv\n",
    "from sklearn.model_selection import KFold"
   ]
  },
  {
   "cell_type": "code",
   "execution_count": 2,
   "id": "b3747676-c71f-4da1-aafa-bbaf481569d6",
   "metadata": {},
   "outputs": [],
   "source": [
    "#设置种子\n",
    "# se = random.randint(0,9999)\n",
    "se = 1100\n",
    "np.random.seed(se)\n",
    "_ = torch.manual_seed(se)\n",
    "k = 5\n",
    "kf = KFold(n_splits=k, shuffle=True, random_state=5)"
   ]
  },
  {
   "cell_type": "code",
   "execution_count": 3,
   "id": "407263ee-f455-40cd-82ef-325fab8afb29",
   "metadata": {},
   "outputs": [],
   "source": [
    "#导入数据\n",
    "dir_path = os.path.dirname('C:\\\\Users\\\\gy501\\\\Desktop\\\\ReCircle - 英文论文\\\\ReCircle\\\\Banded\\\\')\n",
    "path = os.path.abspath(os.path.join(dir_path, 'metabric.csv'))\n",
    "df = pd.read_csv(path, index_col=False)\n",
    "ci = 0"
   ]
  },
  {
   "cell_type": "code",
   "execution_count": 6,
   "id": "a866e7b5-4df2-4f14-90d5-bfda88ebc869",
   "metadata": {},
   "outputs": [
    {
     "name": "stdout",
     "output_type": "stream",
     "text": [
      "0.6646946968096344\n",
      "0.6646946968096344\n",
      "0.6434970014992504\n",
      "1.3081916983088848\n",
      "0.6427298240291263\n",
      "1.9509215223380112\n",
      "0.6952554015735453\n",
      "2.6461769239115567\n",
      "0.6929917333966459\n",
      "3.3391686573082024\n"
     ]
    }
   ],
   "source": [
    "for train_index, test_index in kf.split(df):\n",
    "    df_train = []\n",
    "    df_val = []\n",
    "    df_test = []\n",
    "    df_train = df.iloc[train_index]\n",
    "    df_test = df.iloc[test_index]\n",
    "    df_val = df_train.sample(frac=0.2)\n",
    "    df_train = df_train.drop(df_val.index)\n",
    "    \n",
    "    #处理数据\n",
    "    cols_standardize = ['x0', 'x1', 'x2', 'x3', 'x8']\n",
    "    cols_leave = ['x4', 'x5', 'x6', 'x7']\n",
    "\n",
    "    standardize = [([col], StandardScaler()) for col in cols_standardize]\n",
    "    leave = [(col, None) for col in cols_leave]\n",
    "\n",
    "    x_mapper = DataFrameMapper(standardize + leave)\n",
    "\n",
    "    x_train = x_mapper.fit_transform(df_train).astype('float32')\n",
    "    x_val = x_mapper.transform(df_val).astype('float32')\n",
    "    x_test = x_mapper.transform(df_test).astype('float32')\n",
    "    \n",
    "    num_durations = 10\n",
    "    #labtrans = DeepHitSingle.label_transform(num_durations)\n",
    "    labtrans = BandedDeepHitSingle.label_transform(num_durations)\n",
    "    get_target = lambda df: (df['duration'].values, df['event'].values)\n",
    "    y_train = labtrans.fit_transform(*get_target(df_train))\n",
    "    y_val = labtrans.transform(*get_target(df_val))\n",
    "    \n",
    "    train = (x_train, y_train)\n",
    "    val = (x_val, y_val)\n",
    "    # We don't need to transform the test labels\n",
    "    durations_test, events_test = get_target(df_test)\n",
    "    \n",
    "    in_features = x_train.shape[1]\n",
    "    num_nodes = [32, 32]\n",
    "    out_features = labtrans.out_features\n",
    "    batch_norm = True\n",
    "    dropout = 0.2\n",
    "    net = tt.practical.MLPVanilla(in_features, num_nodes, out_features, batch_norm, dropout)\n",
    "    a = 0.2\n",
    "    s = 0.2\n",
    "    model = BandedDeepHitSingle(net, tt.optim.Adam, alpha=a, sigma=s, duration_index=labtrans.cuts)\n",
    "    batch_size = 256\n",
    "    lr_finder = model.lr_finder(x_train, y_train, batch_size, tolerance=3)\n",
    "    model.optimizer.set_lr(lr_finder.get_best_lr())\n",
    "    # model.optimizer.set_lr(0.01)\n",
    "    \n",
    "    epochs = 256\n",
    "    callbacks = [tt.callbacks.EarlyStopping()]\n",
    "    verbose = False\n",
    "    log = model.fit(x_train, y_train, batch_size, epochs, callbacks,verbose,val_data=val)\n",
    "    \n",
    "    surv = model.interpolate(10).predict_surv_df(x_test)\n",
    "    ev = EvalSurv(surv, durations_test, events_test, censor_surv='km')\n",
    "    print(ev.concordance_td('antolini'))\n",
    "    ci += ev.concordance_td('antolini')\n",
    "    print(ci)"
   ]
  },
  {
   "cell_type": "code",
   "execution_count": 7,
   "id": "e908100d-bfe8-4920-98a7-5ec66e20ad1d",
   "metadata": {},
   "outputs": [
    {
     "data": {
      "text/plain": [
       "0.6678337314616405"
      ]
     },
     "execution_count": 7,
     "metadata": {},
     "output_type": "execute_result"
    }
   ],
   "source": [
    "ci /= k\n",
    "ci"
   ]
  },
  {
   "cell_type": "code",
   "execution_count": 8,
   "id": "2217e8b3-e2f9-45a5-bdf7-17ae7c235fab",
   "metadata": {},
   "outputs": [],
   "source": [
    "# #训练结果\n",
    "# surv = model.predict_surv_df(x_test)\n",
    "# surv.iloc[:, :5].plot(drawstyle='steps-post')\n",
    "# plt.ylabel('S(t | x)')\n",
    "# _ = plt.xlabel('Time')"
   ]
  },
  {
   "cell_type": "code",
   "execution_count": 9,
   "id": "c7cfc115-e98a-411f-ac2b-61b3eabfdd33",
   "metadata": {},
   "outputs": [],
   "source": [
    "# surv = model.interpolate(10).predict_surv_df(x_test)\n",
    "# surv.iloc[:, :5].plot(drawstyle='steps-post')\n",
    "# plt.ylabel('S(t | x)')\n",
    "# _ = plt.xlabel('Time')\n",
    "# plt.savefig(\"METABRIC\"+str(5)+\"-\"+str(5)+\".png\")"
   ]
  },
  {
   "cell_type": "code",
   "execution_count": 10,
   "id": "f04ab75d-3a28-40ad-ac8e-07b16807b025",
   "metadata": {},
   "outputs": [],
   "source": [
    "# ev = EvalSurv(surv, durations_test, events_test, censor_surv='km')\n",
    "# ci = ev.concordance_td('antolini')\n",
    "# time_grid = np.linspace(durations_test.min(), durations_test.max(), 100)\n",
    "# ibs = ev.integrated_brier_score(time_grid)\n",
    "# nbll = ev.integrated_nbll(time_grid) \n",
    "# ci"
   ]
  }
 ],
 "metadata": {
  "kernelspec": {
   "display_name": "lstm3.6pre",
   "language": "python",
   "name": "lstm3.6pre"
  },
  "language_info": {
   "codemirror_mode": {
    "name": "ipython",
    "version": 3
   },
   "file_extension": ".py",
   "mimetype": "text/x-python",
   "name": "python",
   "nbconvert_exporter": "python",
   "pygments_lexer": "ipython3",
   "version": "3.6.9"
  }
 },
 "nbformat": 4,
 "nbformat_minor": 5
}
