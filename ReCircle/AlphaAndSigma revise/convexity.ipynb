{
 "cells": [
  {
   "cell_type": "code",
   "execution_count": 5,
   "id": "f58072fb-af13-4289-ac75-16cf2222d72a",
   "metadata": {},
   "outputs": [],
   "source": [
    "import os \n",
    "import csv\n",
    "import random\n",
    "import numpy as np\n",
    "import pandas as pd\n",
    "import matplotlib.pyplot as plt\n",
    "\n",
    "# For preprocessing\n",
    "from sklearn.preprocessing import StandardScaler\n",
    "from sklearn_pandas import DataFrameMapper \n",
    "\n",
    "import torch # For building the networks \n",
    "import torchtuples as tt # Some useful functions\n",
    "\n",
    "from pycox.datasets import metabric\n",
    "from BandDeepHitSingle import BandedDeepHitSingle\n",
    "from pycox.evaluation import EvalSurv"
   ]
  },
  {
   "cell_type": "code",
   "execution_count": 6,
   "id": "6f24e75c-1ce9-4259-8ca2-260e0b1bde8c",
   "metadata": {},
   "outputs": [
    {
     "data": {
      "text/plain": [
       "'C:\\\\Users\\\\gy501\\\\Desktop\\\\novel MTBR\\\\ReCircle\\\\AlphaAndSigma revise'"
      ]
     },
     "execution_count": 6,
     "metadata": {},
     "output_type": "execute_result"
    }
   ],
   "source": [
    "os.path.dirname(os.path.abspath('__file__'))"
   ]
  },
  {
   "cell_type": "code",
   "execution_count": 7,
   "id": "c2775d10-1d79-4464-88aa-bc29be29fbce",
   "metadata": {},
   "outputs": [],
   "source": [
    "#设置种子\n",
    "# se = random.randint(0,9999)\n",
    "se = 4676\n",
    "np.random.seed(se)\n",
    "_ = torch.manual_seed(se)\n",
    "\n",
    "# 保存C-index目录\n",
    "save_C_index = os.path.join('result.csv')\n",
    "\n",
    "#导入数据\n",
    "dir_path = os.path.dirname(os.path.abspath('__file__'))\n",
    "path = os.path.abspath(os.path.join(dir_path, 'metabric.csv'))\n",
    "df_train = pd.read_csv(path, index_col=False)\n",
    "df_test = df_train.sample(frac=0.2)\n",
    "df_train = df_train.drop(df_test.index)\n",
    "df_val = df_train.sample(frac=0.2)\n",
    "df_train = df_train.drop(df_val.index)\n",
    "\n",
    "#处理数据\n",
    "cols_standardize = ['x0', 'x1', 'x2', 'x3', 'x8']\n",
    "cols_leave = ['x4', 'x5', 'x6', 'x7']\n",
    "\n",
    "standardize = [([col], StandardScaler()) for col in cols_standardize]\n",
    "leave = [(col, None) for col in cols_leave]\n",
    "\n",
    "x_mapper = DataFrameMapper(standardize + leave)\n",
    "\n",
    "x_train = x_mapper.fit_transform(df_train).astype('float32')\n",
    "x_val = x_mapper.transform(df_val).astype('float32')\n",
    "x_test = x_mapper.transform(df_test).astype('float32')\n",
    "\n",
    "num_durations = 10\n",
    "#labtrans = DeepHitSingle.label_transform(num_durations)\n",
    "labtrans = BandedDeepHitSingle.label_transform(num_durations)\n",
    "get_target = lambda df: (df['duration'].values, df['event'].values)\n",
    "y_train = labtrans.fit_transform(*get_target(df_train))\n",
    "y_val = labtrans.transform(*get_target(df_val))\n",
    "\n",
    "train = (x_train, y_train)\n",
    "val = (x_val, y_val)\n",
    "# We don't need to transform the test labels\n",
    "durations_test, events_test = get_target(df_test)"
   ]
  },
  {
   "cell_type": "code",
   "execution_count": 8,
   "id": "aac6050d-d887-491c-897c-00abd58b1085",
   "metadata": {},
   "outputs": [],
   "source": [
    "in_features = x_train.shape[1]\n",
    "num_nodes = [32, 32]\n",
    "out_features = labtrans.out_features\n",
    "batch_norm = True\n",
    "dropout = 0.1\n",
    "\n",
    "net = tt.practical.MLPVanilla(in_features, num_nodes, out_features, batch_norm, dropout)\n",
    "model = BandedDeepHitSingle(net, tt.optim.Adam, alpha=0.2, sigma=0.6, duration_index=labtrans.cuts)\n",
    "batch_size = 256\n",
    "lr_finder = model.lr_finder(x_train, y_train, batch_size, tolerance=3)\n",
    "model.optimizer.set_lr(lr_finder.get_best_lr())"
   ]
  },
  {
   "cell_type": "code",
   "execution_count": 9,
   "id": "4c320cd5-753f-4c19-b44f-2ff9e10d9357",
   "metadata": {},
   "outputs": [],
   "source": [
    "epochs = 256\n",
    "callbacks = [tt.callbacks.EarlyStopping()]\n",
    "verbose = False\n",
    "log = model.fit(x_train, y_train, batch_size, epochs, callbacks,verbose,val_data=val)"
   ]
  },
  {
   "cell_type": "code",
   "execution_count": 5,
   "id": "5c142069-dfce-431e-ae56-8698087fe073",
   "metadata": {},
   "outputs": [
    {
     "data": {
      "image/png": "[encoded data removed]",
      "text/plain": [
       "<Figure size 432x288 with 1 Axes>"
      ]
     },
     "metadata": {
      "needs_background": "light"
     },
     "output_type": "display_data"
    }
   ],
   "source": [
    "from matplotlib import ticker\n",
    "#训练结果\n",
    "surv = model.predict_surv_df(x_test)\n",
    "fig = surv.iloc[:, :5].plot(drawstyle='steps-post')\n",
    "config = {\n",
    "    \"font.family\":'Arial',\n",
    "    \"font.size\": 12,\n",
    "}\n",
    "plt.rcParams.update(config)\n",
    "x = np.arange(1,101)\n",
    "y = x/100\n",
    "fig.yaxis.set_major_formatter(ticker.PercentFormatter(xmax=1,decimals=0))\n",
    "plt.ylabel('Percent Survival')\n",
    "_ = plt.xlabel('Time')"
   ]
  },
  {
   "cell_type": "code",
   "execution_count": 6,
   "id": "1f038d55-dcaf-4a0b-ba45-1310b38d5c16",
   "metadata": {},
   "outputs": [
    {
     "data": {
      "text/plain": [
       "0.000000      0.979601\n",
       "39.466667     0.395178\n",
       "78.933333     0.296342\n",
       "118.400000    0.199543\n",
       "157.866667    0.163139\n",
       "197.333333    0.132263\n",
       "236.800000    0.106694\n",
       "276.266667    0.063324\n",
       "315.733333    0.025199\n",
       "355.200000    0.011268\n",
       "Name: 3, dtype: float32"
      ]
     },
     "execution_count": 6,
     "metadata": {},
     "output_type": "execute_result"
    }
   ],
   "source": [
    "surv.iloc[:, 3]"
   ]
  },
  {
   "cell_type": "code",
   "execution_count": 10,
   "id": "03c6317c-1fa0-4cbd-b769-a1b05ce6d2d3",
   "metadata": {},
   "outputs": [
    {
     "ename": "NameError",
     "evalue": "name 'surv' is not defined",
     "output_type": "error",
     "traceback": [
      "\u001b[1;31m---------------------------------------------------------------------------\u001b[0m",
      "\u001b[1;31mNameError\u001b[0m                                 Traceback (most recent call last)",
      "\u001b[1;32m<ipython-input-10-a585d5342e44>\u001b[0m in \u001b[0;36m<module>\u001b[1;34m\u001b[0m\n\u001b[1;32m----> 1\u001b[1;33m \u001b[0msurv\u001b[0m\u001b[1;33m.\u001b[0m\u001b[0miloc\u001b[0m\u001b[1;33m[\u001b[0m\u001b[1;33m:\u001b[0m\u001b[1;33m,\u001b[0m \u001b[1;36m3\u001b[0m\u001b[1;33m]\u001b[0m\u001b[1;33m.\u001b[0m\u001b[0mvalues\u001b[0m\u001b[1;33m\u001b[0m\u001b[1;33m\u001b[0m\u001b[0m\n\u001b[0m",
      "\u001b[1;31mNameError\u001b[0m: name 'surv' is not defined"
     ]
    }
   ],
   "source": [
    "surv.iloc[:, 3].values"
   ]
  },
  {
   "cell_type": "code",
   "execution_count": 9,
   "id": "f8744adb-3f90-4748-b3bd-a05723f5bbb6",
   "metadata": {},
   "outputs": [
    {
     "data": {
      "text/plain": [
       "array([-0.02, -0.06,  0.  ,  0.06,  0.07])"
      ]
     },
     "execution_count": 9,
     "metadata": {},
     "output_type": "execute_result"
    }
   ],
   "source": [
    "bias = np.zeros(5)\n",
    "bi = np.zeros(8)\n",
    "for i in range(0, 5):\n",
    "    for j in range(2, 8):\n",
    "        bi[j] = surv.iloc[:, i].values[j-1] + surv.iloc[:, i].values[j+1] - 2 * surv.iloc[:, i].values[j]\n",
    "        bias[i] += bi[j]\n",
    "        # print(bias[i])\n",
    "bias.round(decimals=2)"
   ]
  }
 ],
 "metadata": {
  "kernelspec": {
   "display_name": "lstm3.6pre",
   "language": "python",
   "name": "lstm3.6pre"
  },
  "language_info": {
   "codemirror_mode": {
    "name": "ipython",
    "version": 3
   },
   "file_extension": ".py",
   "mimetype": "text/x-python",
   "name": "python",
   "nbconvert_exporter": "python",
   "pygments_lexer": "ipython3",
   "version": "3.6.9"
  }
 },
 "nbformat": 4,
 "nbformat_minor": 5
}
